{
 "cells": [
  {
   "cell_type": "code",
   "execution_count": 7,
   "metadata": {},
   "outputs": [
    {
     "name": "stdout",
     "output_type": "stream",
     "text": [
      "[2, 4, 8, 3, 1, 7]\n"
     ]
    }
   ],
   "source": [
    "l=[2,7,4,8,3,1]\n",
    "l.append(7)\n",
    "l.remove(7)\n",
    "print(l)\n",
    "\n",
    "\n"
   ]
  },
  {
   "cell_type": "code",
   "execution_count": 8,
   "metadata": {},
   "outputs": [
    {
     "name": "stdout",
     "output_type": "stream",
     "text": [
      "[2, 5, 9, 6, 4, 7, 3]\n"
     ]
    }
   ],
   "source": [
    "l=[2,3,5,7,9,6,4]\n",
    "for x in l:\n",
    "    if x%2==1:\n",
    "        l.append(x)\n",
    "        l.remove(x)\n",
    "print(l)\n",
    "    "
   ]
  },
  {
   "cell_type": "code",
   "execution_count": 9,
   "metadata": {},
   "outputs": [
    {
     "name": "stdout",
     "output_type": "stream",
     "text": [
      "[2, 5, 9, 6, 4, 7, 3]\n"
     ]
    }
   ],
   "source": [
    "l=[2,3,5,7,9,6,4]\n",
    "for i in range(0,len(l)):\n",
    "    if l[i]%2==1:\n",
    "        l.append(l[i])\n",
    "        l.remove(l[i])\n",
    "print(l)"
   ]
  },
  {
   "cell_type": "code",
   "execution_count": 10,
   "metadata": {},
   "outputs": [
    {
     "ename": "KeyboardInterrupt",
     "evalue": "",
     "output_type": "error",
     "traceback": [
      "\u001b[1;31m---------------------------------------------------------------------------\u001b[0m",
      "\u001b[1;31mKeyboardInterrupt\u001b[0m                         Traceback (most recent call last)",
      "\u001b[1;32m<ipython-input-10-106cd744eedd>\u001b[0m in \u001b[0;36m<module>\u001b[1;34m\u001b[0m\n\u001b[0;32m      4\u001b[0m     \u001b[1;32mif\u001b[0m \u001b[0ml\u001b[0m\u001b[1;33m[\u001b[0m\u001b[0mi\u001b[0m\u001b[1;33m]\u001b[0m\u001b[1;33m%\u001b[0m\u001b[1;36m2\u001b[0m\u001b[1;33m==\u001b[0m\u001b[1;36m1\u001b[0m\u001b[1;33m:\u001b[0m\u001b[1;33m\u001b[0m\u001b[1;33m\u001b[0m\u001b[0m\n\u001b[0;32m      5\u001b[0m         \u001b[0ml\u001b[0m\u001b[1;33m.\u001b[0m\u001b[0mappend\u001b[0m\u001b[1;33m(\u001b[0m\u001b[0ml\u001b[0m\u001b[1;33m[\u001b[0m\u001b[0mi\u001b[0m\u001b[1;33m]\u001b[0m\u001b[1;33m)\u001b[0m\u001b[1;33m\u001b[0m\u001b[1;33m\u001b[0m\u001b[0m\n\u001b[1;32m----> 6\u001b[1;33m         \u001b[0ml\u001b[0m\u001b[1;33m.\u001b[0m\u001b[0mremove\u001b[0m\u001b[1;33m(\u001b[0m\u001b[0ml\u001b[0m\u001b[1;33m[\u001b[0m\u001b[0mi\u001b[0m\u001b[1;33m]\u001b[0m\u001b[1;33m)\u001b[0m\u001b[1;33m\u001b[0m\u001b[1;33m\u001b[0m\u001b[0m\n\u001b[0m\u001b[0;32m      7\u001b[0m     \u001b[1;32melse\u001b[0m\u001b[1;33m:\u001b[0m\u001b[1;33m\u001b[0m\u001b[1;33m\u001b[0m\u001b[0m\n\u001b[0;32m      8\u001b[0m         \u001b[0mi\u001b[0m \u001b[1;33m+=\u001b[0m\u001b[1;36m1\u001b[0m\u001b[1;33m\u001b[0m\u001b[1;33m\u001b[0m\u001b[0m\n",
      "\u001b[1;31mKeyboardInterrupt\u001b[0m: "
     ]
    }
   ],
   "source": [
    "l=[2,3,5,7,9,6,4]\n",
    "i=0\n",
    "while i < len(l):\n",
    "    if l[i]%2==1:\n",
    "        l.append(l[i])\n",
    "        l.remove(l[i])  \n",
    "    else:\n",
    "        i +=1\n",
    "print(l)\n"
   ]
  },
  {
   "cell_type": "code",
   "execution_count": 12,
   "metadata": {},
   "outputs": [
    {
     "name": "stdout",
     "output_type": "stream",
     "text": [
      "[4, 6, 2, 3, 5, 7, 9]\n"
     ]
    }
   ],
   "source": [
    "l=[2,3,5,7,9,6,4]\n",
    "l1=[]\n",
    "while len(l)>0:\n",
    "    if l[0]%2==1:\n",
    "        l1.append(l[0])\n",
    "    else:\n",
    "        l1.insert(0,l[0])\n",
    "    l.remove(l[0])\n",
    "l=l1\n",
    "print(l)\n"
   ]
  },
  {
   "cell_type": "code",
   "execution_count": 12,
   "metadata": {},
   "outputs": [
    {
     "name": "stdout",
     "output_type": "stream",
     "text": [
      "[3, 5, 7, 9]\n"
     ]
    }
   ],
   "source": [
    "l=[2,3,5,7,9,6,4]\n",
    "i=0\n",
    "while i < len(l):\n",
    "    if l[i]%2==0:\n",
    "        l.remove(l[i])  \n",
    "    else:\n",
    "        i +=1\n",
    "print(l)"
   ]
  },
  {
   "cell_type": "code",
   "execution_count": 4,
   "metadata": {},
   "outputs": [
    {
     "name": "stdout",
     "output_type": "stream",
     "text": [
      "[3, 7, 6]\n"
     ]
    }
   ],
   "source": [
    "l=[2,3,5,7,9,6,4]\n",
    "i=0\n",
    "while i < len(l):\n",
    "        l.remove(l[i])  \n",
    "        i +=1\n",
    "print(l)"
   ]
  },
  {
   "cell_type": "markdown",
   "metadata": {},
   "source": [
    "Эксперименты с битовыми операциями"
   ]
  },
  {
   "cell_type": "code",
   "execution_count": 3,
   "metadata": {},
   "outputs": [
    {
     "data": {
      "text/plain": [
       "4"
      ]
     },
     "execution_count": 3,
     "metadata": {},
     "output_type": "execute_result"
    }
   ],
   "source": [
    "a=12\n",
    "mask=4\n",
    "a&mask"
   ]
  },
  {
   "cell_type": "code",
   "execution_count": 1,
   "metadata": {},
   "outputs": [
    {
     "name": "stdout",
     "output_type": "stream",
     "text": [
      "1010"
     ]
    }
   ],
   "source": [
    "#dec2bin\n",
    "a=10\n",
    "\n",
    "mask=2**3\n",
    "if a&mask==0:\n",
    "    print(0, end='')\n",
    "else:\n",
    "    print(1, end='')\n",
    "    \n",
    "mask=2**2\n",
    "if a&mask==0:\n",
    "    print(0, end='')\n",
    "else:\n",
    "    print(1, end='')\n",
    "    \n",
    "mask=2**1\n",
    "if a&mask==0:\n",
    "    print(0, end='')\n",
    "else:\n",
    "    print(1, end='')\n",
    "    \n",
    "mask=2**0\n",
    "if a&mask==0:\n",
    "    print(0, end='')\n",
    "else:\n",
    "    print(1, end='')"
   ]
  },
  {
   "cell_type": "code",
   "execution_count": 14,
   "metadata": {},
   "outputs": [
    {
     "name": "stdout",
     "output_type": "stream",
     "text": [
      "01000000000000000000000000000000"
     ]
    }
   ],
   "source": [
    "#dec2bin для 32 разрядов с циклов\n",
    "#a=2100000000\n",
    "a=2**30\n",
    "\n",
    "for i in range(31,-1,-1):\n",
    "    mask=2**i\n",
    "    if a&mask==0:\n",
    "        print(0, end='')\n",
    "    else:\n",
    "        print(1, end='')"
   ]
  },
  {
   "cell_type": "code",
   "execution_count": 18,
   "metadata": {},
   "outputs": [
    {
     "name": "stdout",
     "output_type": "stream",
     "text": [
      "13.415763721780893\n"
     ]
    }
   ],
   "source": [
    "import math\n",
    "x=27*math.sin(0.52)\n",
    "print(x)"
   ]
  },
  {
   "cell_type": "code",
   "execution_count": null,
   "metadata": {},
   "outputs": [],
   "source": []
  }
 ],
 "metadata": {
  "kernelspec": {
   "display_name": "Python 3",
   "language": "python",
   "name": "python3"
  },
  "language_info": {
   "codemirror_mode": {
    "name": "ipython",
    "version": 3
   },
   "file_extension": ".py",
   "mimetype": "text/x-python",
   "name": "python",
   "nbconvert_exporter": "python",
   "pygments_lexer": "ipython3",
   "version": "3.8.5"
  }
 },
 "nbformat": 4,
 "nbformat_minor": 4
}
